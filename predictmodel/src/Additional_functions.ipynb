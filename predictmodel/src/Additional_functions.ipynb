{
 "cells": [
  {
   "cell_type": "markdown",
   "id": "e4bc9d28",
   "metadata": {},
   "source": [
    "# Additional Functions"
   ]
  },
  {
   "cell_type": "code",
   "execution_count": 1,
   "id": "3866210a",
   "metadata": {},
   "outputs": [],
   "source": [
    "# Import necessary libraries\n",
    "import pandas as pd\n",
    "import numpy as np\n",
    "import joblib\n",
    "from sklearn.linear_model import LinearRegression\n",
    "from sklearn.metrics import mean_squared_error, r2_score\n",
    "from sklearn.model_selection import train_test_split"
   ]
  },
  {
   "cell_type": "markdown",
   "id": "ff0f3925",
   "metadata": {},
   "source": [
    "## Definitions"
   ]
  },
  {
   "cell_type": "code",
   "execution_count": 2,
   "id": "29961501",
   "metadata": {},
   "outputs": [],
   "source": [
    "def Make_Circle(latitude, longitude, radius_km=50, num_points=100):\n",
    "    \"\"\"\n",
    "    Generate points forming a circle around a given latitude and longitude.\n",
    "\n",
    "    Parameters:\n",
    "    latitude (float): Latitude of the center point.\n",
    "    longitude (float): Longitude of the center point.\n",
    "    radius_km (float): Radius of the circle in kilometers. Default is 50 km.\n",
    "    num_points (int): Number of points to generate along the circle. Default is 100.\n",
    "\n",
    "    Returns:\n",
    "    list of tuples: List containing (latitude, longitude) points forming the circle.\n",
    "    \"\"\"\n",
    "\n",
    "    # Convert radius from kilometers to degrees\n",
    "    # 1 degree of latitude is approximately 111.32 kilometers\n",
    "    radius_deg = radius_km / 111.32  # Approximate conversion factor\n",
    "\n",
    "    angles = np.linspace(0, 2 * np.pi, num_points)\n",
    "    circle_points = []\n",
    "\n",
    "    for angle in angles:\n",
    "        lat = latitude + radius_deg * np.cos(angle)\n",
    "        lon = longitude + radius_deg * np.sin(angle) / np.cos(np.radians(latitude))\n",
    "        circle_points.append((lat, lon))\n",
    "\n",
    "    return circle_points"
   ]
  },
  {
   "cell_type": "code",
   "execution_count": 3,
   "id": "f9d4ded7",
   "metadata": {},
   "outputs": [],
   "source": [
    "def Make_Prediction_Dataset(latitude, longitude, date, radius_km=50, num_points=100):\n",
    "    \"\"\"\n",
    "    Create a dataset for prediction based on a circle around a given latitude and longitude.\n",
    "    \n",
    "    Parameters:\n",
    "    latitude (float): Latitude of the center point.\n",
    "    longitude (float): Longitude of the center point.\n",
    "    date (str): Date in 'YYYY-MM-DD' format.\n",
    "    radius_km (float): Radius of the circle in kilometers. Default is 50 km.\n",
    "    num_points (int): Number of points to generate along the circle. Default is 100.\n",
    "    \n",
    "    Returns:\n",
    "    pd.DataFrame: DataFrame containing the features for prediction.\n",
    "    \"\"\"\n",
    "\n",
    "    # Generate circle points\n",
    "    circle_points = Make_Circle(latitude, longitude, radius_km, num_points)\n",
    "    date = pd.to_datetime(date,format=\"%Y-%m-%d\")\n",
    "\n",
    "    # Prepare the dataset\n",
    "    data = []\n",
    "    for lat, lon in circle_points:\n",
    "        year = date.year\n",
    "        month = date.month\n",
    "        day_of_year = date.dayofyear\n",
    "        month_sin = np.sin(2 * np.pi * month / 12)\n",
    "        month_cos = np.cos(2 * np.pi * month / 12)\n",
    "        day_sin = np.sin(2 * np.pi * day_of_year / 365)\n",
    "        day_cos = np.cos(2 * np.pi * day_of_year / 365)\n",
    "\n",
    "        data.append({\n",
    "            'Latitude': lat,\n",
    "            'Longitude': lon,\n",
    "            'Year': year,\n",
    "            'Month_sin': month_sin,\n",
    "            'Month_cos': month_cos,\n",
    "            'Day_sin': day_sin,\n",
    "            'Day_cos': day_cos\n",
    "        })\n",
    "\n",
    "    return pd.DataFrame(data), date"
   ]
  },
  {
   "cell_type": "code",
   "execution_count": 4,
   "id": "4ba27921",
   "metadata": {},
   "outputs": [],
   "source": [
    "def calculateAQIS(concentrations, gas, breakpointsAQI):\n",
    "    \"\"\"\n",
    "    Calculate the Air Quality Index (AQI) for a specific gas using the provided dataset and breakpoints.\n",
    "    \"\"\"\n",
    "    aqis = []  # AQI values\n",
    "    IHIs = []  # High Index\n",
    "    ILOs = []  # Low Index\n",
    "    \n",
    "    # Calculate the AQI using the breakpoints\n",
    "    for concentration in concentrations:\n",
    "        for i in range(len(breakpointsAQI[gas]) - 1):\n",
    "            if concentration >= breakpointsAQI[gas][i] and concentration < breakpointsAQI[gas][i + 1]:\n",
    "                IHIs.append((i + 1) * 50)  # Corresponds to BP_hi\n",
    "                ILOs.append(i * 50)        # Corresponds to BP_lo\n",
    "                aqi = ((IHIs[-1] - ILOs[-1]) / (breakpointsAQI[gas][i + 1] - breakpointsAQI[gas][i])) * \\\n",
    "                      (concentration - breakpointsAQI[gas][i]) + ILOs[-1]\n",
    "                aqis.append(aqi)\n",
    "                break\n",
    "        else:\n",
    "            # If concentration is above the last breakpoint\n",
    "            aqis.append(300)  # Assign a high AQI value for concentrations above the last breakpoint\n",
    "\n",
    "    return np.array(aqis)"
   ]
  },
  {
   "cell_type": "code",
   "execution_count": 5,
   "id": "c2ae88f8",
   "metadata": {},
   "outputs": [],
   "source": [
    "def calculateAQI(dataset,breakpointsAQI) :\n",
    "    \"dataset includes following columns: O3, pm2.5, pm10, CO, SO2, NO2\"\n",
    "\n",
    "    # we create a dictionary to store AQI values for each gas\n",
    "    aqi_values = {}\n",
    "    aqi_observations = [] # final AQI values for each observation\n",
    "    for gas in ['Predictions_O3', 'Predictions_PM25', 'Predictions_PM10', 'Predictions_CO', 'Predictions_SO2', 'Predictions_NO2']:\n",
    "        concentrations = dataset[gas].values\n",
    "        aqi_gas = calculateAQIS(concentrations, gas, breakpointsAQI)\n",
    "        # we store the AQI values for the gas in the dictionary\n",
    "        aqi_values[gas] = aqi_gas\n",
    "\n",
    "    # we store in aqi_observations the maximum AQI value among all gases\n",
    "    for i in range(len(dataset)):\n",
    "        max_aqi = max(aqi_values[gas][i] for gas in aqi_values)\n",
    "        aqi_observations.append(max_aqi)\n",
    "    \n",
    "    return aqi_observations"
   ]
  },
  {
   "cell_type": "code",
   "execution_count": 6,
   "id": "1a2ae7d9",
   "metadata": {},
   "outputs": [],
   "source": [
    "def Make_CSV(latitude, longitude, date, route_array, output_file, radius_km=50, num_points=100):\n",
    "    \"\"\"\n",
    "    Generate predictions and save them to a CSV file.\n",
    "\n",
    "    Parameters:\n",
    "    latitude (float): Latitude of the center point.\n",
    "    longitude (float): Longitude of the center point.\n",
    "    date (str): Date in 'YYYY-MM-DD' format.\n",
    "    route_array (list): List of paths to saved model files.\n",
    "    output_file (str): Name of the output CSV file.\n",
    "    radius_km (float): Radius of the circle in kilometers. Default is 50 km.\n",
    "    num_points (int): Number of points to generate. Default is 100.\n",
    "\n",
    "    Returns:\n",
    "    None\n",
    "    \"\"\"\n",
    "    # Gas name array\n",
    "    gas_names = ['CO', 'O3', 'NO2','SO2', 'PM25', 'PM10']\n",
    "\n",
    "    # Create prediction dataset\n",
    "    training_dataset, date = Make_Prediction_Dataset(latitude, longitude, date, radius_km, num_points)\n",
    "    dataset = training_dataset.copy()\n",
    "    dataset.drop(columns=['Month_sin', 'Month_cos', 'Day_sin', 'Day_cos','Year'], inplace=True)\n",
    "    dataset['Date'] = date\n",
    "\n",
    "    # Generate predictions\n",
    "    for route in route_array:\n",
    "        model = joblib.load(route)\n",
    "        predictions = model.predict(training_dataset)\n",
    "        dataset[f'Predictions_{gas_names[route_array.index(route)]}'] = predictions\n",
    "\n",
    "    # Define breakpoints for AQI calculation\n",
    "    breakpointsAQI = {\n",
    "        'Predictions_O3': [0, 55, 71, 86, 106, 201, 301, 401, 501],\n",
    "        'Predictions_PM25': [0.0, 12.1, 35.5, 55.5, 150.5, 250.5, 350.5, 500.5],\n",
    "        'Predictions_PM10': [0, 55, 155, 255, 355, 425, 505, 605, 1000],\n",
    "        'Predictions_CO': [0.0, 4.5, 9.5, 12.5, 15.5, 30.5, 40.5, 50.5, 60.5],\n",
    "        'Predictions_SO2': [0, 36, 76, 186, 305, 605, 805, 1005, 2000],\n",
    "        'Predictions_NO2': [0, 54, 101, 361, 650, 1250, 1650, 2050, 3000]\n",
    "    }\n",
    "    aqi_values = calculateAQI(dataset, breakpointsAQI)\n",
    "    dataset.drop(columns=['Predictions_CO', 'Predictions_O3', 'Predictions_NO2', 'Predictions_SO2', 'Predictions_PM25', 'Predictions_PM10'], inplace=True)\n",
    "    dataset['AQI'] = aqi_values\n",
    "\n",
    "    # Save to CSV\n",
    "    dataset.to_csv(output_file, index=False)"
   ]
  },
  {
   "cell_type": "markdown",
   "id": "959a59db",
   "metadata": {},
   "source": [
    "## Function Testing"
   ]
  },
  {
   "cell_type": "code",
   "execution_count": 7,
   "id": "75a5724b",
   "metadata": {},
   "outputs": [
    {
     "name": "stdout",
     "output_type": "stream",
     "text": [
      "=== Make_Circle Test ===\n",
      "Circle points around (40.7128, -74.006) with radius 25 km:\n",
      "  Point 1: (40.9374, -74.0060)\n",
      "  Point 2: (40.8848, -73.8156)\n",
      "  Point 3: (40.7518, -73.7142)\n",
      "  Point 4: (40.6005, -73.7494)\n",
      "  Point 5: (40.5018, -73.9047)\n",
      "  ... and 5 more points\n"
     ]
    }
   ],
   "source": [
    "# Test Make_Circle function\n",
    "print(\"=== Make_Circle Test ===\")\n",
    "test_latitude = 40.7128  # New York\n",
    "test_longitude = -74.0060\n",
    "test_radius = 25  # 25 km\n",
    "\n",
    "circle_points = Make_Circle(test_latitude, test_longitude, test_radius, num_points=10)\n",
    "print(f\"Circle points around ({test_latitude}, {test_longitude}) with radius {test_radius} km:\")\n",
    "for i, (lat, lon) in enumerate(circle_points[:5]):  # Show only first 5\n",
    "    print(f\"  Point {i+1}: ({lat:.4f}, {lon:.4f})\")\n",
    "print(f\"  ... and {len(circle_points)-5} more points\")"
   ]
  },
  {
   "cell_type": "code",
   "execution_count": 8,
   "id": "7f82347f",
   "metadata": {},
   "outputs": [
    {
     "name": "stdout",
     "output_type": "stream",
     "text": [
      "\n",
      "=== Make_Prediction_Dataset Test ===\n",
      "Prediction dataset created for 2023-06-15:\n"
     ]
    },
    {
     "data": {
      "text/plain": [
       "(    Latitude  Longitude  Year     Month_sin  Month_cos   Day_sin   Day_cos\n",
       " 0  40.937378 -74.006000  2023  1.224647e-16       -1.0  0.280231 -0.959933\n",
       " 1  40.884837 -73.815554  2023  1.224647e-16       -1.0  0.280231 -0.959933\n",
       " 2  40.751798 -73.714220  2023  1.224647e-16       -1.0  0.280231 -0.959933\n",
       " 3  40.600511 -73.749413  2023  1.224647e-16       -1.0  0.280231 -0.959933\n",
       " 4  40.501766 -73.904666  2023  1.224647e-16       -1.0  0.280231 -0.959933\n",
       " 5  40.501766 -74.107334  2023  1.224647e-16       -1.0  0.280231 -0.959933\n",
       " 6  40.600511 -74.262587  2023  1.224647e-16       -1.0  0.280231 -0.959933\n",
       " 7  40.751798 -74.297780  2023  1.224647e-16       -1.0  0.280231 -0.959933\n",
       " 8  40.884837 -74.196446  2023  1.224647e-16       -1.0  0.280231 -0.959933\n",
       " 9  40.937378 -74.006000  2023  1.224647e-16       -1.0  0.280231 -0.959933,\n",
       " Timestamp('2023-06-15 00:00:00'))"
      ]
     },
     "execution_count": 8,
     "metadata": {},
     "output_type": "execute_result"
    }
   ],
   "source": [
    "# Test Make_Prediction_Dataset function\n",
    "print(\"\\n=== Make_Prediction_Dataset Test ===\")\n",
    "test_date = \"2023-06-15\"\n",
    "\n",
    "prediction_dataset = Make_Prediction_Dataset(\n",
    "    test_latitude, test_longitude, test_date, test_radius, num_points=10\n",
    ")\n",
    "print(f\"Prediction dataset created for {test_date}:\")\n",
    "prediction_dataset"
   ]
  },
  {
   "cell_type": "code",
   "execution_count": null,
   "id": "5e2a0abe",
   "metadata": {},
   "outputs": [
    {
     "name": "stdout",
     "output_type": "stream",
     "text": [
      "\n",
      "=== Make_CSV Test ===\n",
      "\n",
      "CSV file generated: ../output/predictions_output.csv\n",
      "File size: (100, 4)\n",
      "\n",
      "First 5 rows of CSV:\n",
      "    Latitude  Longitude        Date        AQI\n",
      "0  41.161956 -74.006000  2023-06-15  37.224052\n",
      "1  41.161051 -73.968417  2023-06-15  37.224052\n",
      "2  41.158342 -73.930986  2023-06-15  37.224052\n",
      "3  41.153839 -73.893857  2023-06-15  35.244110\n",
      "4  41.147560 -73.857179  2023-06-15  35.244110\n",
      "\n",
      "Available columns:\n",
      "['Latitude', 'Longitude', 'Date', 'AQI']\n"
     ]
    }
   ],
   "source": [
    "# Test Make_CSV function\n",
    "print(\"\\n=== Make_CSV Test ===\")\n",
    "\n",
    "latitude=40.7128  # New York\n",
    "longitude=-74.0060\n",
    "date=\"2023-06-15\"\n",
    "route_array = [\n",
    "    '../models/CO_model.pkl',\n",
    "    '../models/O3_model.pkl',\n",
    "    '../models/NO2_model.pkl',\n",
    "    '../models/SO2_model.pkl',\n",
    "    '../models/PM25_model.pkl',\n",
    "    '../models/PM10_model.pkl'\n",
    "]\n",
    "\n",
    "output_name = '../output/predictions_output.csv'\n",
    "Make_CSV(latitude, longitude, date, route_array, output_name)\n",
    "\n",
    "# Read and show the result\n",
    "result_df = pd.read_csv(output_name)\n",
    "print(f\"\\nCSV file generated: {output_name}\")\n",
    "print(f\"File size: {result_df.shape}\")\n",
    "print(\"\\nFirst 5 rows of CSV:\")\n",
    "print(result_df.head())\n",
    "print(\"\\nAvailable columns:\")\n",
    "print(result_df.columns.tolist())"
   ]
  },
  {
   "cell_type": "markdown",
   "id": "68bde6f0",
   "metadata": {},
   "source": []
  }
 ],
 "metadata": {
  "kernelspec": {
   "display_name": "venv (3.11.6)",
   "language": "python",
   "name": "python3"
  },
  "language_info": {
   "codemirror_mode": {
    "name": "ipython",
    "version": 3
   },
   "file_extension": ".py",
   "mimetype": "text/x-python",
   "name": "python",
   "nbconvert_exporter": "python",
   "pygments_lexer": "ipython3",
   "version": "3.11.6"
  }
 },
 "nbformat": 4,
 "nbformat_minor": 5
}
